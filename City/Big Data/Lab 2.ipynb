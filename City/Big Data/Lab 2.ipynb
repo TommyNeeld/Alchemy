{
    "metadata": {
        "language_info": {
            "name": "python", 
            "mimetype": "text/x-python", 
            "nbconvert_exporter": "python", 
            "pygments_lexer": "ipython3", 
            "codemirror_mode": {
                "name": "ipython", 
                "version": 3
            }, 
            "file_extension": ".py", 
            "version": "3.5.2"
        }, 
        "kernelspec": {
            "display_name": "Python 3.5 (Experimental) with Spark 1.6 (Unsupported)", 
            "name": "python3", 
            "language": "python"
        }
    }, 
    "nbformat": 4, 
    "cells": [
        {
            "metadata": {}, 
            "source": "# Lab Sheet 2: Extracting Word Fequency Vectors with Spark\n\nThese tasks are for working in the lab session and during the week. We'll do a bit of word preprocessing in task 1) and in task 2) we'll load a number of files and will go through the processing steps to extract word frequencies. \n", 
            "cell_type": "markdown"
        }, 
        {
            "metadata": {}, 
            "source": "### Getting data from git\nThe cell below will create a local copy from our Github repository into the local filesystem. This only needs to be done once", 
            "cell_type": "markdown"
        }, 
        {
            "source": "!git clone https://github.com/tweyde/City-Data-Science.git", 
            "metadata": {}, 
            "execution_count": 1, 
            "cell_type": "code", 
            "outputs": [
                {
                    "name": "stdout", 
                    "output_type": "stream", 
                    "text": "Cloning into 'City-Data-Science'...\nremote: Counting objects: 41, done.\u001b[K\nremote: Compressing objects: 100% (39/39), done.\u001b[K\nremote: Total 41 (delta 7), reused 21 (delta 1), pack-reused 0\u001b[K\nUnpacking objects: 100% (41/41), done.\n"
                }
            ]
        }, 
        {
            "metadata": {}, 
            "source": "The next cell will update the local copy of the repository. You should do this once a week, or when asked. ", 
            "cell_type": "markdown"
        }, 
        {
            "source": "%cd City-Data-Science/\n!git pull https://github.com/tweyde/City-Data-Science.git\n%cd ..", 
            "metadata": {}, 
            "execution_count": 2, 
            "cell_type": "code", 
            "outputs": [
                {
                    "name": "stdout", 
                    "output_type": "stream", 
                    "text": "/gpfs/global_fs01/sym_shared/YPProdSpark/user/s8bb-4c006897e4ec94-b51c55267e90/notebook/work/City-Data-Science\nFrom https://github.com/tweyde/City-Data-Science\n * branch            HEAD       -> FETCH_HEAD\nAlready up-to-date.\n/gpfs/global_fs01/sym_shared/YPProdSpark/user/s8bb-4c006897e4ec94-b51c55267e90/notebook/work\n"
                }
            ]
        }, 
        {
            "metadata": {}, 
            "source": "## 1) Word preparation\n\nDefine your own mapper function for removing the plural \u201cs\u201d at the end of words and turning them to lower case as a rough approximation towards stemming. \n\nUse the python def syntax [see here](https://docs.python.org/release/1.5.1p1/tut/functions.html) to define your own function stripFinalS(word) that takes as argument a word, and outputs the word in lower case without any possible trailing \u201cs\u201d.\n\nFor this task, you can treat strings as lists and apply \"list slicing\": <br>\n`lst[0:3] # the first three elements` <br>\n`lst[:-2] # all but the last two elements`\n\nYou need to check that the string is not empty (test `len(word)`) before accessing the letters in the string, otherwise you'll raise an exception.m", 
            "cell_type": "markdown"
        }, 
        {
            "source": "def stripFinalS( word ):\n    if len(word) > 1:\n        if word[-1] == 's':\n            word = word[:-1]\n    else:\n        print('The string is empty')\n        \n    return word.lower()\nprint(stripFinalS('houses')) # for testing, should return 'house'", 
            "metadata": {}, 
            "execution_count": 27, 
            "cell_type": "code", 
            "outputs": [
                {
                    "name": "stdout", 
                    "output_type": "stream", 
                    "text": "house\n"
                }
            ]
        }, 
        {
            "metadata": {}, 
            "source": "Add your new function into the word count example below for testing, replacing the `lower()` method.", 
            "cell_type": "markdown"
        }, 
        {
            "source": "from operator import add\nimport re\n\nlinesRDD = sc.textFile(\"./City-Data-Science/library/hamlet.txt\") # read text as RDD\nwordsRDD = linesRDD.flatMap(lambda line: re.split('\\W+',line)) # split words, break lists\nwordsFilteredRDD = wordsRDD.filter(lambda word: len(word)>0)\n\nwords1RDD = wordsFilteredRDD.map(lambda word: (stripFinalS(word),1)) # lower case, (w,1) pairs\nwordCountRDD = words1RDD.reduceByKey(add) # reduce and add up counts\nfreqWordsRDD = wordCountRDD.filter(lambda x:  x[1] >= 5 ) # remove rare words\noutput = freqWordsRDD.sortBy(lambda x: -x[1]).take(10) # collect 1o most frequent words\nfor (word, count) in output: # iterate over (w,c) pairs\n    print(\"%s: %i\" % (word, count)) #  \u2026 and print\n# this sohuld print the stopwords with their ", 
            "metadata": {}, 
            "execution_count": 28, 
            "cell_type": "code", 
            "outputs": [
                {
                    "name": "stdout", 
                    "output_type": "stream", 
                    "text": "the: 1218\ni: 1019\nand: 1019\nto: 834\na: 815\nof: 733\nyou: 610\nmy: 516\nin: 464\nit: 442\n"
                }
            ]
        }, 
        {
            "metadata": {}, 
            "source": "# 2) Extracting word frequency vectors from text documents\n\nNow we start a new script, which reads in a whole directory with text files and extracts word frequency information.\n\nThis involves some tuple restructuing and list transformation. It is important to use meaningful variable names. Also it is helpful to use pen and paper (or a text editor) to write down the structures that you are intending to create. Keep in mind the final goal of getting a list of words and their frequencies for each file, i.e. (filename,[(w,c), ... , (w,c)]). \n\n\n## 2a) Load the files\nLoad all text files in the directory /data/student/bigdatastud/library on the server lewes using sc.wholeTextFiles <br>(see [http://spark.apache.org/docs/2.0.0/api/python/pyspark.html#pyspark.SparkContext.wholeTextFiles](http://spark.apache.org/docs/2.0.0/api/python/pyspark.html#pyspark.SparkContext.wholeTextFiles)). This will create an RDD with tuples of the structure (filepath,content), where content is the whole text from the file. ", 
            "cell_type": "markdown"
        }, 
        {
            "source": "dirPath = \"./City-Data-Science/library/\"\nfw_RDD = sc.wholeTextFiles(\"./City-Data-Science/library/\")\n\nprint(\"partitions: \", fw_RDD.getNumPartitions()) # on IBM DSX we have 2 executors by default with one partition each\nprint(\"elements: \", fw_RDD.count())\n# this should print partitions:  2 and elements:  19", 
            "metadata": {}, 
            "execution_count": 57, 
            "cell_type": "code", 
            "outputs": [
                {
                    "name": "stdout", 
                    "output_type": "stream", 
                    "text": "partitions:  2\nelements:  19\n"
                }
            ]
        }, 
        {
            "metadata": {}, 
            "source": "## 2b) Split the RDD elements using flatMap to make the (filename, word) tuples the key.\n\nFor this define a function that takes a pair `(filename,content)` and output list of pairs `[(filename, word1), ...(filename, wordN)]`. You can get the words as usual by re.split(\u2019\\W+\u2019,x). \n\nUse list comprehensions (see http://www.pythonforbeginners.com/basics/list-comprehensions-in-python) to iterate through the word list in a for loop, and append the (filename,word) tuples to a new list.  \n\nBelow is a template, you need to fill in the that starts with `<<<`.", 
            "cell_type": "markdown"
        }, 
        {
            "source": "def splitFileWords(filenameContent): # your splitting function\n    f,c = filenameContent # unpack the input tuple  \n    fwLst = [] # the new list for (filename,word) tuples\n    wLst =  re.split('\\W+', c) # <<< now create a word list wLst be splitting c (the content)\n    for w in wLst: # iterate through the list\n         if len(w) > 0:\n            fwLst.append((f,w)) # <<< and append (f,w) to the fwList\n    return fwLst #return a list of (f,w) tuples \n    \nfw_RDD = fw_RDD.flatMap(splitFileWords)\nfw_RDD.take(1)\n\n# should print something similar to this:\n# [('file:/gpfs/global_fs01/sym_shared/YPProdSpark/user/s832-dfe96c6e1f1d61-70d619a53771/notebook/work/City-Data-Science/library/prideandpredjudice.txt',\n# 'The'),", 
            "metadata": {}, 
            "execution_count": 58, 
            "cell_type": "code", 
            "outputs": [
                {
                    "data": {
                        "text/plain": "[('file:/gpfs/global_fs01/sym_shared/YPProdSpark/user/s8bb-4c006897e4ec94-b51c55267e90/notebook/work/City-Data-Science/library/prideandpredjudice.txt',\n  'The')]"
                    }, 
                    "metadata": {}, 
                    "execution_count": 58, 
                    "output_type": "execute_result"
                }
            ]
        }, 
        {
            "metadata": {}, 
            "source": "### Question: \nLooking that the new elements, what might be problematic if we were using a large dataset and what could we do to prevent this from happening?", 
            "cell_type": "markdown"
        }, 
        {
            "metadata": {}, 
            "source": "Now use filter to keep only the tuples with stopwords (remember, the words are now the 2nd element of the tuple).", 
            "cell_type": "markdown"
        }, 
        {
            "source": "stopwlst = ['the','a','in','of','on','at','for','by','I','you','me'] # stopword list\nfw_RDD2 = fw_RDD.filter(lambda x: x[1] in stopwlst) #<<< filter, keeping only stopwords as 2nd part of the tuples\nfw_RDD2.top(3) #", 
            "metadata": {}, 
            "execution_count": 59, 
            "cell_type": "code", 
            "outputs": [
                {
                    "data": {
                        "text/plain": "[('file:/gpfs/global_fs01/sym_shared/YPProdSpark/user/s8bb-4c006897e4ec94-b51c55267e90/notebook/work/City-Data-Science/library/tempest.txt',\n  'you'),\n ('file:/gpfs/global_fs01/sym_shared/YPProdSpark/user/s8bb-4c006897e4ec94-b51c55267e90/notebook/work/City-Data-Science/library/tempest.txt',\n  'you'),\n ('file:/gpfs/global_fs01/sym_shared/YPProdSpark/user/s8bb-4c006897e4ec94-b51c55267e90/notebook/work/City-Data-Science/library/tempest.txt',\n  'you')]"
                    }, 
                    "metadata": {}, 
                    "execution_count": 59, 
                    "output_type": "execute_result"
                }
            ]
        }, 
        {
            "metadata": {}, 
            "source": "\n## 2c) Count the words and reorganise the tuples to count: ((filename,word), count)\n\nNow you can package the elements into tuples with 1s and use reduceByKey(add) to get the counts of the words per filename, similar to last week and in task 1 above.", 
            "cell_type": "markdown"
        }, 
        {
            "source": "fw_1_RDD = fw_RDD2.map(lambda x: (x,1))  #<<< change (f,w) to ((f,w),1)\nfw_c_RDD = fw_1_RDD.reduceByKey(add) #<<< count the words\nfw_c_RDD.top(3)", 
            "metadata": {}, 
            "execution_count": 60, 
            "cell_type": "code", 
            "outputs": [
                {
                    "data": {
                        "text/plain": "[(('file:/gpfs/global_fs01/sym_shared/YPProdSpark/user/s8bb-4c006897e4ec94-b51c55267e90/notebook/work/City-Data-Science/library/tempest.txt',\n   'you'),\n  260),\n (('file:/gpfs/global_fs01/sym_shared/YPProdSpark/user/s8bb-4c006897e4ec94-b51c55267e90/notebook/work/City-Data-Science/library/tempest.txt',\n   'the'),\n  695),\n (('file:/gpfs/global_fs01/sym_shared/YPProdSpark/user/s8bb-4c006897e4ec94-b51c55267e90/notebook/work/City-Data-Science/library/tempest.txt',\n   'on'),\n  85)]"
                    }, 
                    "metadata": {}, 
                    "execution_count": 60, 
                    "output_type": "execute_result"
                }
            ]
        }, 
        {
            "metadata": {}, 
            "source": "## 2d) Creating and concatenating lists\n\nAs a next step, map the `((filename,word),count)` eleemnts to `( filename, [ (word, count) ])` structure, i.e. rearange and wrap a list aournd the one tuple (just by writing squre backets). For this create a function `reGrpLst` to regroup and create a list. Check that the output has the intended structure.", 
            "cell_type": "markdown"
        }, 
        {
            "source": "def reGrpLst(fw_c): # we get a nested tuple\n    fw,c = fw_c # unpack the outer tuple\n    f,w = fw\n    return (f, [(w,c)]) # return (f,[(w,c)]) structure. Can be used verbatim, if your variable names match.\n\nf_wcL_RDD = fw_c_RDD.map(reGrpLst) \nf_wcL_RDD.top(3)", 
            "metadata": {}, 
            "execution_count": 62, 
            "cell_type": "code", 
            "outputs": [
                {
                    "data": {
                        "text/plain": "[('file:/gpfs/global_fs01/sym_shared/YPProdSpark/user/s8bb-4c006897e4ec94-b51c55267e90/notebook/work/City-Data-Science/library/tempest.txt',\n  [('you', 260)]),\n ('file:/gpfs/global_fs01/sym_shared/YPProdSpark/user/s8bb-4c006897e4ec94-b51c55267e90/notebook/work/City-Data-Science/library/tempest.txt',\n  [('the', 695)]),\n ('file:/gpfs/global_fs01/sym_shared/YPProdSpark/user/s8bb-4c006897e4ec94-b51c55267e90/notebook/work/City-Data-Science/library/tempest.txt',\n  [('on', 85)])]"
                    }, 
                    "metadata": {}, 
                    "execution_count": 62, 
                    "output_type": "execute_result"
                }
            ]
        }, 
        {
            "metadata": {}, 
            "source": "Next we can concatenate the lists per filename using reduceByKey(). Write a lambda that cancatenates the lists per element.  Concatenation of lists in Python is done with '+', e.g.  `[1,2] + [3,4]` returns `[1,2,3,4]`.", 
            "cell_type": "markdown"
        }, 
        {
            "source": "f_wcL2_RDD = f_wcL_RDD.reduceByKey(lambda wc1,wc2: wc1+wc2 ) #<<< create [(w,c), ... ,(w,c)] lists per file ", 
            "metadata": {}, 
            "execution_count": 63, 
            "cell_type": "code", 
            "outputs": []
        }, 
        {
            "source": "output = f_wcL2_RDD.collect() \nfor el in output[1:4]:\n    print(el)\n    print()\n# should show something like this:\n# ('file:/gpfs/global_fs01/sym_shared/YPProdSpark/user/s832-dfe96c6e1f1d61-70d619a53771/notebook/work/City-Data-Science/library/king_lear.txt', \n# [('of', 495), ('in', 280), ('at', 66), ('me', 228), ('I', 705), ('for', 130), ('on', 104), ('you', 412), ('a', 364), ('the', 746), ('by', 84)])", 
            "metadata": {
                "pixiedust": {
                    "displayParams": {}
                }
            }, 
            "execution_count": 64, 
            "cell_type": "code", 
            "outputs": [
                {
                    "name": "stdout", 
                    "output_type": "stream", 
                    "text": "('file:/gpfs/global_fs01/sym_shared/YPProdSpark/user/s8bb-4c006897e4ec94-b51c55267e90/notebook/work/City-Data-Science/library/hamlet.txt', [('in', 427), ('of', 685), ('at', 86), ('you', 544), ('I', 617), ('the', 1050), ('for', 202), ('on', 141), ('by', 124), ('a', 496), ('me', 236)])\n\n('file:/gpfs/global_fs01/sym_shared/YPProdSpark/user/s8bb-4c006897e4ec94-b51c55267e90/notebook/work/City-Data-Science/library/merchant_of_venice.txt', [('at', 73), ('of', 499), ('in', 280), ('for', 201), ('me', 253), ('on', 77), ('you', 440), ('by', 108), ('a', 444), ('the', 832), ('I', 676)])\n\n('file:/gpfs/global_fs01/sym_shared/YPProdSpark/user/s8bb-4c006897e4ec94-b51c55267e90/notebook/work/City-Data-Science/library/tempest.txt', [('at', 80), ('of', 435), ('in', 262), ('a', 355), ('you', 260), ('by', 106), ('the', 695), ('me', 165), ('I', 559), ('on', 85), ('for', 134)])\n\n"
                }
            ]
        }, 
        {
            "metadata": {}, 
            "source": "## 2e) Creating Hash Vectors\n\nIf we want to use all the words in each text, we need to reduce the dimensionality of the vectors. For this we use the 'Hashing Trick' shown in the lecture. \n\nStart by writing a function that takes a (word,count) list, and transforms it into vector of fixed size. For that you need to take the have value of each word module the size (`hash(word) % size`) and add up all counts that map here. ", 
            "cell_type": "markdown"
        }, 
        {
            "source": "def hashWcList(lst,size):\n    lst2 = [0] * size;\n    for (w,c) in lst:\n        lst2[hash(w) % size] += c  # determine the position with hash(w)%size and add c there\n    return lst2\n        \nhashWcList([('this',23),('is',12),('a',34),('little',13),('test',24)],5) # for testing\n#output should look like this: [36, 0, 36, 0, 34]", 
            "metadata": {}, 
            "execution_count": 65, 
            "cell_type": "code", 
            "outputs": [
                {
                    "data": {
                        "text/plain": "[36, 0, 36, 0, 34]"
                    }, 
                    "metadata": {}, 
                    "execution_count": 65, 
                    "output_type": "execute_result"
                }
            ]
        }, 
        {
            "source": "f_hv_RDD = wordCountRDD.map(lambda f_wcl: (f_wcl[0],hashWcList(f_wcl[1],10)))\n\nfor el in output[1:4]:\n    print(el)\n    print()\n# now we can display a 10-dimensional vector for every text file ", 
            "metadata": {
                "pixiedust": {
                    "displayParams": {}
                }
            }, 
            "execution_count": 66, 
            "cell_type": "code", 
            "outputs": [
                {
                    "name": "stdout", 
                    "output_type": "stream", 
                    "text": "('file:/gpfs/global_fs01/sym_shared/YPProdSpark/user/s8bb-4c006897e4ec94-b51c55267e90/notebook/work/City-Data-Science/library/hamlet.txt', [('in', 427), ('of', 685), ('at', 86), ('you', 544), ('I', 617), ('the', 1050), ('for', 202), ('on', 141), ('by', 124), ('a', 496), ('me', 236)])\n\n('file:/gpfs/global_fs01/sym_shared/YPProdSpark/user/s8bb-4c006897e4ec94-b51c55267e90/notebook/work/City-Data-Science/library/merchant_of_venice.txt', [('at', 73), ('of', 499), ('in', 280), ('for', 201), ('me', 253), ('on', 77), ('you', 440), ('by', 108), ('a', 444), ('the', 832), ('I', 676)])\n\n('file:/gpfs/global_fs01/sym_shared/YPProdSpark/user/s8bb-4c006897e4ec94-b51c55267e90/notebook/work/City-Data-Science/library/tempest.txt', [('at', 80), ('of', 435), ('in', 262), ('a', 355), ('you', 260), ('by', 106), ('the', 695), ('me', 165), ('I', 559), ('on', 85), ('for', 134)])\n\n"
                }
            ]
        }
    ], 
    "nbformat_minor": 1
}
